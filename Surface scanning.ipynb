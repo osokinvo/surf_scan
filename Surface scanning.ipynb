{
 "cells": [
  {
   "cell_type": "markdown",
   "metadata": {},
   "source": [
    "Подключаем библиотеки"
   ]
  },
  {
   "cell_type": "code",
   "execution_count": 2,
   "metadata": {},
   "outputs": [],
   "source": [
    "import cv2\n",
    "import numpy as np"
   ]
  },
  {
   "cell_type": "markdown",
   "metadata": {},
   "source": [
    "Исходные данные берем из видео"
   ]
  },
  {
   "cell_type": "code",
   "execution_count": 4,
   "metadata": {},
   "outputs": [],
   "source": [
    "cap = cv2.VideoCapture('VID_20221122_161249.mp4')"
   ]
  },
  {
   "cell_type": "markdown",
   "metadata": {},
   "source": [
    "Сканирующая камера снимает видео звейкой:\n"
   ]
  },
  {
   "cell_type": "code",
   "execution_count": null,
   "metadata": {},
   "outputs": [],
   "source": [
    "# →→→→→→\n",
    "#      ↓\n",
    "# ←←←←←←\n",
    "# ↓\n",
    "# →→→→→→\n",
    "#      ↓\n",
    "# ←←←←←←"
   ]
  },
  {
   "cell_type": "markdown",
   "metadata": {},
   "source": [
    "Объединим снимки по оси X"
   ]
  },
  {
   "cell_type": "code",
   "execution_count": null,
   "metadata": {},
   "outputs": [],
   "source": [
    "# Временное хранение объединенных линий\n",
    "tmp_frames_line = None\n",
    "\n",
    "# Счетчики\n",
    "i = 0\n",
    "j = 0\n",
    "\n",
    "# Соединение должно происходить по разным направлениям (то слева направо, то справа налево)\n",
    "dir = True\n",
    "\n",
    "# Видео включается отдельно от плотерной системы, поэтому есть некоторые задержки включения (начало на 111 кадре) и выключения камеры (конец на 40000 кадре)\n",
    "# Переход на другую линию проиходит через каждые 665 кадров/\n",
    "lim = [k for k in range(111,40000,665)]\n",
    "\n",
    "# Место снимка с хорошей цветопередачей и освещением\n",
    "start_frame_y = 854\n",
    "end_frame_y = 1066\n",
    "start_frame_x = 535\n",
    "end_frame_x = 545\n",
    "\n",
    "while(cap.isOpened()):\n",
    "    ret, frame = cap.read()\n",
    "    if ret == True:\n",
    "        if a is None:\n",
    "            tmp_frames_line = frame[start_frame_y:end_frame_y,start_frame_x:end_frame_x]\n",
    "        else:\n",
    "            if dir:\n",
    "                tmp_frames_line = np.concatenate([frame[start_frame_y:end_frame_y,start_frame_x:end_frame_x],tmp_frames_line], 1)\n",
    "            else:\n",
    "                tmp_frames_line = np.concatenate([tmp_frames_line,frame[start_frame_y:end_frame_y,start_frame_x:end_frame_x]], 1)\n",
    "        i += 1\n",
    "        if i in lim:\n",
    "            dir = not dir\n",
    "            cv2.imwrite(f\"frame{j}.bmp\", tmp_frames_line)\n",
    "            j += 1\n",
    "            tmp_frames_line = None\n",
    "    else:\n",
    "        break\n",
    "if not (tmp_frames_line is None):\n",
    "    cv2.imwrite(f\"frame{j}.jpg\", tmp_frames_line)"
   ]
  },
  {
   "cell_type": "markdown",
   "metadata": {},
   "source": [
    "К сожалению, было обнаружено проскальзывание установки на некоторых участках направляющих, поэтому по оси Y кадры не могут быть склеены автоматически, поэтому дальнейшее объединение было выполнено вручную."
   ]
  }
 ],
 "metadata": {
  "kernelspec": {
   "display_name": "Python 3.8.10 64-bit",
   "language": "python",
   "name": "python3"
  },
  "language_info": {
   "codemirror_mode": {
    "name": "ipython",
    "version": 3
   },
   "file_extension": ".py",
   "mimetype": "text/x-python",
   "name": "python",
   "nbconvert_exporter": "python",
   "pygments_lexer": "ipython3",
   "version": "3.8.10"
  },
  "orig_nbformat": 4,
  "vscode": {
   "interpreter": {
    "hash": "916dbcbb3f70747c44a77c7bcd40155683ae19c65e1c03b4aa3499c5328201f1"
   }
  }
 },
 "nbformat": 4,
 "nbformat_minor": 2
}
